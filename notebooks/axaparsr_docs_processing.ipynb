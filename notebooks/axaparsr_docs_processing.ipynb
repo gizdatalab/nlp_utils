{
 "cells": [
  {
   "cell_type": "code",
   "execution_count": null,
   "metadata": {},
   "outputs": [],
   "source": [
    "import pandas as pd\n",
    "import docker\n",
    "# make sure you have docker running\n",
    "client = docker.from_env()\n",
    "import os\n",
    "import json\n",
    "from nlputils import utils\n",
    "from nlputils.components.axaserver import axaprocessor,axasplitter"
   ]
  },
  {
   "cell_type": "code",
   "execution_count": null,
   "metadata": {},
   "outputs": [],
   "source": [
    "###### Declare the variables #######\n",
    "\n",
    "path_to_files_list = \"path to files from list from **load_docs.ipynb**\"\n",
    "\n",
    "path_to_save_output_from_parsr = \"path where the output from axaparsr needs to save the files\"\n",
    "\n",
    "# yuo need to copy the axaparsr container id from the docker\n",
    "container_id= \"cvcvcvc.....\"\n"
   ]
  },
  {
   "cell_type": "code",
   "execution_count": 4,
   "metadata": {},
   "outputs": [
    {
     "name": "stdout",
     "output_type": "stream",
     "text": [
      "normal pdf files to be processed: 642\n",
      "image pdf files to be processed: 13\n"
     ]
    }
   ],
   "source": [
    "# read the files dataframe\n",
    "df_pdf = pd.read_json(path_to_files_list)\\\n",
    "                    .query('ImagePDF.notna() & ImagePDF==False').reset_index(drop=True)\n",
    "df_pdf['pdf_path'] = df_pdf.apply(lambda x: x['orig_filepath'] if x['filetype'] == 'pdf' \n",
    "                                  else x['converted_filepath'],axis=1)\n",
    "df_pdf = df_pdf[df_pdf.pdf_path.notna()]\\\n",
    "                    .sort_values(by = 'page_count',ascending=True)\\\n",
    "                    .reset_index(drop=True)\n",
    "print(\"normal pdf files to be processed:\",len(df_pdf))\n",
    "\n",
    "# keeping image pdf as separate dataframe\n",
    "df_imagepdf = pd.read_json(path_to_files_list)\\\n",
    "                    .query('ImagePDF.notna() & ImagePDF==True').reset_index(drop=True)\n",
    "df_imagepdf['pdf_path'] = df_imagepdf.apply(lambda x: x['orig_filepath'] if x['filetype'] == 'pdf' \n",
    "                                  else x['converted_filepath'],axis=1)\n",
    "df_imagepdf = df_imagepdf[df_imagepdf.pdf_path.notna()]\\\n",
    "                    .sort_values(by = 'page_count',ascending=True)\\\n",
    "                    .reset_index(drop=True)\n",
    "print(\"image pdf files to be processed:\",len(df_imagepdf))"
   ]
  },
  {
   "cell_type": "markdown",
   "metadata": {},
   "source": [
    "## Document Processing"
   ]
  },
  {
   "cell_type": "markdown",
   "metadata": {},
   "source": [
    "Sort the files with page count: (it takes roughly 1 min for 10 pages on single core)"
   ]
  },
  {
   "cell_type": "code",
   "execution_count": 4,
   "metadata": {},
   "outputs": [],
   "source": [
    "# get the batches, for more info read doc_string\n",
    "batches = axaprocessor.create_axa_batches(df_pdf)"
   ]
  },
  {
   "cell_type": "code",
   "execution_count": null,
   "metadata": {},
   "outputs": [
    {
     "name": "stdout",
     "output_type": "stream",
     "text": [
      "verysmall completed\n",
      "small completed\n",
      "medium completed\n",
      "large completed\n",
      "verylarge completed\n"
     ]
    }
   ],
   "source": [
    "# based on batch type cretaed earlier iterate through them and save \n",
    "# the output in folder \"../../../batch_type/\"\n",
    "for batch,val in batches.items():\n",
    "    # if processed_files.json exists for the batch type then it means that the batch type \n",
    "    # has been procssed already so skip it\n",
    "    if os.path.isfile(path_to_save_output_from_parsr + f\"{batch}/processed_files.json\"):\n",
    "        print(batch, \"completed\")\n",
    "    else:\n",
    "        print(batch, \"not completed\")\n",
    "        print(f\"running {batch} for batch params size:{val[1]}, wait_time:{val[2]}, config:{val[3]}\")\n",
    "        # instantiate class object and pass the files list\n",
    "        if batch != 'verylarge':\n",
    "            ###### You need to\n",
    "            batch_test= axaprocessor.axaBatchProcessingLocal(container_id=container_id,\n",
    "                                        config=val[3],batch_files=val[0].pdf_path.tolist())\n",
    "\n",
    "            # you can reset the batch parameters, depending on memeory and number of cores that docker has access to\n",
    "            batch_test.set_batch_params(batch_size=val[1],batch_wait_time=val[2])\n",
    "        else:\n",
    "            # for verylarge batch better to use the dynamic wait time\n",
    "            batch_test= axaprocessor.axaBatchProcessingLocal(container_id=container_id,\n",
    "                                        config=val[3],batch_files=val[0].pdf_path.tolist())\n",
    "            batch_test.set_batch_params(batch_size=val[1],dynamic_wait_time=True)\n",
    "\n",
    "        # call the processing method of class to start the document processings    \n",
    "        tmp = batch_test.processing(path_to_save_output_from_parsr +f\"{batch}/\")\n",
    "        # save the dataframe which contains metadata on processed files\n",
    "        jsonfile = tmp.to_json(orient=\"records\")\n",
    "        parsed = json.loads(jsonfile)\n",
    "        with open( path_to_save_output_from_parsr +f\"{batch}/processed_files.json\", 'w') as file:\n",
    "            json.dump(parsed, file, indent=4)      "
   ]
  },
  {
   "cell_type": "code",
   "execution_count": null,
   "metadata": {},
   "outputs": [],
   "source": [
    "# collect the processed files info\n",
    "batch_types = ['verysmall','small','medium','large','verylarge']\n",
    "df_pdf = pd.concat([pd.read_json(path_to_save_output_from_parsr + f\"{batch}/processed_files.json\") \n",
    "                                            for batch in batch_types],ignore_index=True)\n",
    "not_processed_pdf = df_pdf[df_pdf.simple_json_download_successful ==False][['filename','file_path']]\\\n",
    "                                    .reset_index(drop=True)\n",
    "\n",
    "# process them once again with diiferent dynamic_multiplier than default value\n",
    "batch_test= axaprocessor.axaBatchProcessingLocal(container_id=container_id,\n",
    "                                        config='largepdf',batch_files=not_processed_pdf.file_path.tolist())\n",
    "batch_test.set_batch_params(batch_size=2,dynamic_wait_time=True,dynamic_multiplier=6)\n",
    "tmp = batch_test.processing(path_to_save_output_from_parsr +\"round2/\")\n",
    "\n",
    "jsonfile = tmp.to_json(orient=\"records\")\n",
    "parsed = json.loads(jsonfile)\n",
    "with open( path_to_save_output_from_parsr +\"round2/processed_files.json\", 'w') as file:\n",
    "    json.dump(parsed, file, indent=4)"
   ]
  },
  {
   "cell_type": "markdown",
   "metadata": {},
   "source": [
    "Process ImagePDF's"
   ]
  },
  {
   "cell_type": "code",
   "execution_count": null,
   "metadata": {},
   "outputs": [],
   "source": [
    "# instantiate class object and pass the files list\n",
    "batch_test= axaprocessor.axaBatchProcessingLocal(container_id=container_id,\n",
    "                                                 batch_files=df_imagepdf.pdf_path.tolist(), config='ocr')\n",
    "# set the batch parameters, depending on memeory and number of cores that docker has access to\n",
    "batch_test.set_batch_params(batch_size=2, dynamic_wait_time=True,dynamic_multiplier=10)\n",
    "tmp = batch_test.processing(path_to_save_output_from_parsr+\"imagepdf/\")\n",
    "jsonfile = tmp.to_json(orient=\"records\")\n",
    "parsed = json.loads(jsonfile)\n",
    "with open( path_to_save_output_from_parsr +\"imagepdf/processed_files.json\", 'w') as file:\n",
    "    json.dump(parsed, file, indent=4)"
   ]
  },
  {
   "cell_type": "markdown",
   "metadata": {},
   "source": [
    "## Chunking"
   ]
  },
  {
   "cell_type": "code",
   "execution_count": 81,
   "metadata": {},
   "outputs": [],
   "source": [
    "# collect all the processed docs\n",
    "folder_name = ['verysmall','small','medium','large','verylarge', 'round2','imagepdf']\n",
    "df = pd.concat([pd.read_json(path_to_save_output_from_parsr + f\"{batch}/processed_files.json\") \n",
    "                                            for batch in folder_name],ignore_index=True)"
   ]
  },
  {
   "cell_type": "code",
   "execution_count": 83,
   "metadata": {},
   "outputs": [],
   "source": [
    "def create_save_chunks(filename,path_to_docs):\n",
    "    # create chunks\n",
    "    chunks = axasplitter.simplejson_splitter(json_filepath=path_to_docs + os.path.splitext(filename)[0]+'.simple.json',\n",
    "                                             filename = os.path.splitext(filename)[0],page_start=0,\n",
    "                                             headings_level=2,lower_threshold=50, upper_threshold=50)\n",
    "    # save chunks\n",
    "    with open(path_to_docs+os.path.splitext(filename)[0]+'.chunks.json', 'w') as file:\n",
    "        json.dump(chunks, file)\n",
    "    # return chunks filepath\n",
    "    return path_to_docs+ os.path.splitext(filename)[0] +'.chunks.json'"
   ]
  },
  {
   "cell_type": "code",
   "execution_count": 84,
   "metadata": {},
   "outputs": [
    {
     "name": "stderr",
     "output_type": "stream",
     "text": [
      "100%|██████████| 689/689 [01:26<00:00,  7.92it/s]\n"
     ]
    }
   ],
   "source": [
    "df['chunks_filepath'] = df.progress_apply(lambda x: create_save_chunks(x['filename'],x['path_to_docs']) \n",
    "                                            if x['simple_json_download_successful'] else None,axis=1)"
   ]
  },
  {
   "cell_type": "code",
   "execution_count": 85,
   "metadata": {},
   "outputs": [],
   "source": [
    "import json\n",
    "jsonfile = df.to_json(orient=\"records\")\n",
    "parsed = json.loads(jsonfile)\n",
    "with open(path_to_save_output_from_parsr +\"processed_chunks.json\", 'w') as file:\n",
    "    json.dump(parsed, file, indent=4)"
   ]
  },
  {
   "cell_type": "markdown",
   "metadata": {},
   "source": [
    "# Quality check\n",
    "\n",
    "We will perform a brief quality check on the quality of data, both at page level and then at chunks level"
   ]
  },
  {
   "cell_type": "code",
   "execution_count": 86,
   "metadata": {},
   "outputs": [],
   "source": [
    "# read the chunks metadata file\n",
    "df = pd.read_json(path_to_save_output_from_parsr +\"processed_chunks.json\")\n",
    "df = df[df.simple_json_download_successful ==True].reset_index(drop=True)"
   ]
  },
  {
   "cell_type": "code",
   "execution_count": null,
   "metadata": {},
   "outputs": [
    {
     "name": "stderr",
     "output_type": "stream",
     "text": [
      "100%|██████████| 649/649 [00:09<00:00, 67.86it/s] \n",
      "100%|██████████| 649/649 [00:04<00:00, 143.16it/s]\n",
      "100%|██████████| 648/648 [00:00<?, ?it/s]"
     ]
    },
    {
     "name": "stdout",
     "output_type": "stream",
     "text": [
      "Total Number of okay files: 616\n"
     ]
    },
    {
     "name": "stderr",
     "output_type": "stream",
     "text": [
      "\n"
     ]
    }
   ],
   "source": [
    "# Performing page level checks\n",
    "\n",
    "# read raw text page wise using axaprocessor\n",
    "df['pages'] = df.progress_apply(lambda x: axaprocessor.get_pagewise_text(x['path_to_docs'] + \n",
    "                                os.path.splitext(x['filename'])[0]+'.simple.json'),axis=1)\n",
    "\n",
    "# check for text quality page wise\n",
    "def check_pages(pages):\n",
    "    page_check= []\n",
    "    for page in pages:\n",
    "        # using gibberish function to detect quality\n",
    "        page_check.append(utils.is_gibberish(page['content']))\n",
    "    return page_check\n",
    "\n",
    "df['gibberish_page_check'] = df.pages.progress_apply(lambda x: check_pages(x))\n",
    "df['extracted_page_count'] = df.gibberish_page_check.apply(lambda x: len(x))\n",
    "df = df[df.extracted_page_count != 0].reset_index(drop=True)\n",
    "\n",
    "df['gibberish_doc_percent'] = df.gibberish_page_check.progress_apply(lambda x: round((sum(x)/len(x)),2))\n",
    "# checking files percent based on percentage of pages good\n",
    "# usually from the experience its seen its a good benchmark\n",
    "# reason for .35 thres is from fact that if document is only 3 pages and of these 1 page is not good \n",
    "# its better to check.\n",
    "print(\"Total Number of okay files:\", len(df[df.gibberish_doc_percent <= 0.35]))"
   ]
  },
  {
   "cell_type": "code",
   "execution_count": 88,
   "metadata": {},
   "outputs": [
    {
     "name": "stdout",
     "output_type": "stream",
     "text": [
      "Total docs having atleast 1 page classified as gibberish: 106\n"
     ]
    },
    {
     "data": {
      "image/png": "[encoded data removed]",
      "text/plain": [
       "<Figure size 640x480 with 1 Axes>"
      ]
     },
     "metadata": {},
     "output_type": "display_data"
    }
   ],
   "source": [
    "import matplotlib.pyplot as plt\n",
    "\n",
    "# plot to see the distribution of documents which have atleast one page being classified as gibberish\n",
    "df['gibberish_page_count'] = df.gibberish_page_check.apply(lambda x: sum(x))\n",
    "print(\"Total docs having atleast 1 page classified as gibberish:\", len(df.query('gibberish_doc_percent > 0')))\n",
    "plt.hist(df.query('gibberish_doc_percent > 0').gibberish_doc_percent, color='lightgreen', ec='black', bins=20)\n",
    "plt.title(\"Distribution of Percentage of Gibberish page per doc (filtered: >0%)\")\n",
    "plt.show()"
   ]
  },
  {
   "cell_type": "markdown",
   "metadata": {},
   "source": [
    "Perform some random manual checks on the documents to asses the quality"
   ]
  },
  {
   "cell_type": "code",
   "execution_count": 104,
   "metadata": {},
   "outputs": [],
   "source": [
    "# # this code block can be sued o filter soem documents which can be used for spot check\n",
    "# # reason for .35 thres is from fact that if document is only 3 pages and of these 1 page is not good \n",
    "# # its better to check.\n",
    "\n",
    "##### uncomment below and use #########\n",
    "# to_be_checked = df.query('gibberish_doc_percent > 0')\\\n",
    "#                             .query('gibberish_doc_percent <=0.35')\\\n",
    "#                             .reset_index()\n",
    "\n",
    "# to_be_checked['checklist'] = to_be_checked.gibberish_page_check.apply(lambda x: [\n",
    "#                                                         i for i,j in enumerate(x) if j])\n",
    "\n",
    "# # drop where its only first page\n",
    "# to_be_checked['check'] = to_be_checked.checklist.apply(lambda x: False if (len(x) ==1) and (x[0]==0) else True)\n",
    "# to_be_checked = to_be_checked[to_be_checked.check==True].drop(columns=['gibberish_page_check',\n",
    "#                                                         'check']).reset_index(drop=True)\n",
    "# to_be_checked.to_csv('manual_check.csv', index=False)\n",
    "# to_be_checked"
   ]
  },
  {
   "cell_type": "code",
   "execution_count": null,
   "metadata": {},
   "outputs": [
    {
     "name": "stderr",
     "output_type": "stream",
     "text": [
      "100%|██████████| 648/648 [00:16<00:00, 39.39it/s]\n"
     ]
    }
   ],
   "source": [
    "# performing the same quality check on paragraph/chunks level\n",
    "def check_chunks(filepath):\n",
    "    with open(filepath) as file:\n",
    "        chunks  =  json.load(file)\n",
    "    \n",
    "    chunks = chunks['paragraphs']\n",
    "    if len(chunks)!= 0:\n",
    "        chunks = pd.DataFrame(chunks)\n",
    "        chunks['check'] = chunks.content.apply(lambda x: utils.is_gibberish(str(x)))\n",
    "    return list(chunks.check)\n",
    "\n",
    "df['gibberish_chunk_check'] = df.chunks_filepath.progress_apply(lambda x: check_chunks(x))\n",
    "df['chunks_count'] = df.gibberish_chunk_check.apply(lambda x: len(x))\n",
    "df['gibberish_chunks_percent'] = df.gibberish_chunk_check.apply(lambda x: round((sum(x)/len(x)),2))\n",
    "df['gibberish_chunks_count'] = df.gibberish_chunk_check.apply(lambda x: sum(x))"
   ]
  },
  {
   "cell_type": "code",
   "execution_count": 109,
   "metadata": {},
   "outputs": [
    {
     "name": "stdout",
     "output_type": "stream",
     "text": [
      "Total docs having atleast 5 percentage of  chunk classified as gibberish: 159\n"
     ]
    },
    {
     "data": {
      "image/png": "[encoded data removed]",
      "text/plain": [
       "<Figure size 640x480 with 1 Axes>"
      ]
     },
     "metadata": {},
     "output_type": "display_data"
    }
   ],
   "source": [
    "import matplotlib.pyplot as plt\n",
    "\n",
    "# plot to see the % distribution ofgibberish chunks documents which have more than 35% page classifed as gibberish\n",
    "\n",
    "print(\"Total docs having atleast 5 percentage of  chunk classified as gibberish:\", len(df.query('gibberish_chunks_percent > 0.05')))\n",
    "plt.hist(df.query('gibberish_doc_percent < 0.35').query('gibberish_chunks_count >1').gibberish_chunks_percent, color='lightgreen', ec='black', bins=20)\n",
    "plt.title(\"Distribution of Percentage of Gibberish chunks per doc \\n (filtered: gibberish_doc_percent < 35% & gibberish_chunks_count>1)\")\n",
    "plt.show()"
   ]
  }
 ],
 "metadata": {
  "kernelspec": {
   "display_name": "nlp",
   "language": "python",
   "name": "python3"
  },
  "language_info": {
   "codemirror_mode": {
    "name": "ipython",
    "version": 3
   },
   "file_extension": ".py",
   "mimetype": "text/x-python",
   "name": "python",
   "nbconvert_exporter": "python",
   "pygments_lexer": "ipython3",
   "version": "3.11.10"
  }
 },
 "nbformat": 4,
 "nbformat_minor": 2
}
