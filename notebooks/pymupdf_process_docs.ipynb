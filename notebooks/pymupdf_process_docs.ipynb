{
 "cells": [
  {
   "cell_type": "code",
   "execution_count": null,
   "metadata": {},
   "outputs": [
    {
     "name": "stderr",
     "output_type": "stream",
     "text": [
      "c:\\Users\\Prashant\\anaconda3\\envs\\nlp\\Lib\\site-packages\\tqdm\\auto.py:21: TqdmWarning: IProgress not found. Please update jupyter and ipywidgets. See https://ipywidgets.readthedocs.io/en/stable/user_install.html\n",
      "  from .autonotebook import tqdm as notebook_tqdm\n"
     ]
    }
   ],
   "source": [
    "import sys\n",
    "from nlputils import utils\n",
    "from nlputils.components.pymupdf_util import pymuprocessor\n",
    "import pandas as pd\n",
    "from tqdm import tqdm\n",
    "tqdm.pandas()\n",
    "import json\n",
    "import os"
   ]
  },
  {
   "cell_type": "markdown",
   "metadata": {},
   "source": [
    "## load docs"
   ]
  },
  {
   "cell_type": "code",
   "execution_count": null,
   "metadata": {},
   "outputs": [
    {
     "name": "stdout",
     "output_type": "stream",
     "text": [
      "individuals file type counts\n",
      "pdf:5\n",
      "docx:0\n"
     ]
    }
   ],
   "source": [
    "# Define the path var to dir which need to be processed\n",
    "path_to_orig_data_folder = \"folder_location\"\n",
    "\n",
    "# Define file types to be considered\n",
    "file_types = ['pdf','docx']\n",
    "\n",
    "# read all files (inlcuding sub-dir) in dir defined above\n",
    "files_list = utils.get_files(path_to_orig_data_folder)\n",
    "print('individuals file type counts', '\\n'.join([str(type)+\":\"+str(len(lst)) \n",
    "                                    for type,lst in files_list.items()]), sep='\\n')\n",
    "\n",
    "# Contructing dataframe for record keeping\n",
    "# create list of key, values for dataframe\n",
    "keys = [k for k, v in files_list.items() for _ in v]\n",
    "values = [v for v in files_list.values() for v in v]\n",
    "df_files = pd.DataFrame({'filetype': keys, 'orig_filepath': values})"
   ]
  },
  {
   "cell_type": "code",
   "execution_count": 3,
   "metadata": {},
   "outputs": [
    {
     "name": "stderr",
     "output_type": "stream",
     "text": [
      "100%|██████████| 5/5 [00:00<00:00,  9.45it/s]\n"
     ]
    }
   ],
   "source": [
    "# check if pdf is normal or imagepdf\n",
    "df_files['ImagePDF'] = df_files.progress_apply(lambda x: utils.check_if_imagepdf(x['orig_filepath']) \n",
    "                                                if x['filetype']  == 'pdf' else\n",
    "                                                (utils.check_if_imagepdf(x['converted_filepath']) \n",
    "                                                 if x['converted_filepath'] is not None else None),\n",
    "                                                 axis=1)\n",
    "df_files['filename'] = df_files.orig_filepath.apply(lambda x: os.path.basename(x))\n",
    "df_files['page_count'] =df_files.orig_filepath.apply(lambda x: utils.get_page_count(x))"
   ]
  },
  {
   "cell_type": "code",
   "execution_count": null,
   "metadata": {},
   "outputs": [],
   "source": [
    "# save the files info\n",
    "path_to_new_folder = \"savetofolderlocation\"\n",
    "if not os.path.exists(path_to_new_folder + 'tmp/'):\n",
    "            os.makedirs(path_to_new_folder + 'tmp/')\n",
    "jsonfile = df_files.to_json(orient=\"records\")\n",
    "parsed = json.loads(jsonfile)\n",
    "with open(path_to_new_folder+'tmp/pymupdf_files.json', 'w') as file:\n",
    "    json.dump(parsed, file, indent=4)"
   ]
  },
  {
   "cell_type": "markdown",
   "metadata": {},
   "source": [
    "## process files"
   ]
  },
  {
   "cell_type": "code",
   "execution_count": 5,
   "metadata": {},
   "outputs": [],
   "source": [
    "df_pdf = df_files[df_files.ImagePDF==False]\\\n",
    "                    .sort_values(by = 'page_count',ascending=True)\\\n",
    "                    .reset_index(drop=True)\n",
    "df_imagepdf = df_files[df_files.ImagePDF==True]\\\n",
    "                    .sort_values(by = 'page_count',ascending=True)\\\n",
    "                    .reset_index(drop=True)"
   ]
  },
  {
   "cell_type": "code",
   "execution_count": null,
   "metadata": {},
   "outputs": [
    {
     "name": "stderr",
     "output_type": "stream",
     "text": [
      "  0%|          | 0/4 [00:00<?, ?it/s]"
     ]
    },
    {
     "name": "stdout",
     "output_type": "stream",
     "text": [
      "Processing C:/Users/Prashant/Desktop/work/audit/reports\\Gulu DLG Report of Auditor General 2019.pdf...\n",
      "[                                        ] (0/3[=                                       ] ( 1/3[==                                      ] ( 2/37[===                                     ] ( 3/3[====                                    ] ( 4/37[=====                                   ] ( 5/3[======                                  ] ( 6/37[=======                                 ] ( 7/3[========                                ] ( 8/37[=========                               ] ( 9/3[==========                              ] (10/37[===========                             ] (11/3[============                            ] (12/37=[==============                          ] (13/37[===============                         ] (14/3[================                        ] (15/37[=================                       ] (16/3[==================                      ] (17/37[===================                     ] (18/3[====================                    ] (19/37[=====================                   ] (20/3[======================                  ] (21/37[=======================                 ] (22/3[========================                ] (23/37[=========================               ] (24/3=[===========================             ] (25/3[============================            ] (26/37[=============================           ] (27/3[==============================          ] (28/37[===============================         ] (29/3[================================        ] (30/37[=================================       ] (31/3[==================================      ] (32/37[===================================     ] (33/3[====================================    ] (34/37[=====================================   ] (35/3[======================================  ] (36/37=[========================================] (37/37)"
     ]
    },
    {
     "name": "stderr",
     "output_type": "stream",
     "text": [
      " 50%|█████     | 2/4 [00:05<00:05,  2.86s/it]"
     ]
    },
    {
     "name": "stdout",
     "output_type": "stream",
     "text": [
      "\b]\n",
      "Processing C:/Users/Prashant/Desktop/work/audit/reports\\Gulu DLG Report of Auditor General 2020.pdf...\n",
      "[                                        ] (0/42[                                        ] ( 1/42[=                                       ] ( 2/4[==                                      ] ( 3/42[===                                     ] ( 4/4[====                                    ] ( 5/42[=====                                   ] ( 6/4[======                                  ] ( 7/42[=======                                 ] ( 8/4[========                                ] ( 9/42[=========                               ] (10/4[==========                              ] (11/42[===========                             ] (12/4[============                            ] (13/42[=============                           ] (14/4[==============                          ] (15/42[===============                         ] (16/4[================                        ] (17/42[=================                       ] (18/4[==================                      ] (19/42[===================                     ] (20/[====================                    ] (21/42[====================                    ] (22/42[=====================                   ] (23/4[======================                  ] (24/42[=======================                 ] (25/4[========================                ] (26/42[=========================               ] (27/4[==========================              ] (28/42[===========================             ] (29/4[============================            ] (30/42[=============================           ] (31/4[==============================          ] (32/42[===============================         ] (33/4[================================        ] (34/42[=================================       ] (35/4[==================================      ] (36/42[===================================     ] (37/4[====================================    ] (38/42[=====================================   ] (39/4[======================================  ] (40/42[======================================= ] (41/[========================================] (42/42)"
     ]
    },
    {
     "name": "stderr",
     "output_type": "stream",
     "text": [
      " 75%|███████▌  | 3/4 [00:26<00:10, 10.50s/it]"
     ]
    },
    {
     "name": "stdout",
     "output_type": "stream",
     "text": [
      "\b]\n",
      "Processing C:/Users/Prashant/Desktop/work/audit/reports\\Gulu DLG Report of Auditor General 2021.pdf...\n",
      "[                                        ] (0/42[                                        ] ( 1/42[=                                       ] ( 2/4[==                                      ] ( 3/42[===                                     ] ( 4/4[====                                    ] ( 5/42[=====                                   ] ( 6/4[======                                  ] ( 7/42[=======                                 ] ( 8/4[========                                ] ( 9/42[=========                               ] (10/4[==========                              ] (11/42[===========                             ] (12/4[============                            ] (13/42[=============                           ] (14/4[==============                          ] (15/42[===============                         ] (16/4[================                        ] (17/42[=================                       ] (18/4[==================                      ] (19/42[===================                     ] (20/[====================                    ] (21/42[====================                    ] (22/42[=====================                   ] (23/4[======================                  ] (24/42[=======================                 ] (25/4[========================                ] (26/42[=========================               ] (27/4[==========================              ] (28/42[===========================             ] (29/4[============================            ] (30/42[=============================           ] (31/4[==============================          ] (32/42[===============================         ] (33/4[================================        ] (34/42[=================================       ] (35/4[==================================      ] (36/42[===================================     ] (37/4[====================================    ] (38/42[=====================================   ] (39/4[======================================  ] (40/42[======================================= ] (41/42[========================================] (42/42]\n"
     ]
    },
    {
     "name": "stderr",
     "output_type": "stream",
     "text": [
      "100%|██████████| 4/4 [00:33<00:00,  9.02s/it]"
     ]
    },
    {
     "name": "stdout",
     "output_type": "stream",
     "text": [
      "Processing C:/Users/Prashant/Desktop/work/audit/reports\\Gulu DLG Report of Auditor General 2018.pdf...\n",
      "[                                        ] (0/44[                                        ] ( 1/44[=                                       ] ( 2/4[==                                      ] ( 3/44[===                                     ] ( 4/4[====                                    ] ( 5/44[=====                                   ] ( 6/4[======                                  ] ( 7/44[=======                                 ] ( 8/4[========                                ] ( 9/44[=========                               ] (10/4[==========                              ] (11/4[==========                              ] (12/44[===========                             ] (13/4[============                            ] (14/44[=============                           ] (15/4[==============                          ] (16/44[===============                         ] (17/4[================                        ] (18/44[=================                       ] (19/4[==================                      ] (20/44[===================                     ] (21/4[====================                    ] (22/4[====================                    ] (23/44[=====================                   ] (24/4[======================                  ] (25/44[=======================                 ] (26/4[========================                ] (27/44[=========================               ] (28/4[==========================              ] (29/44[===========================             ] (30/4[============================            ] (31/44[=============================           ] (32/4[==============================          ] (33/4[==============================          ] (34/44[===============================         ] (35/4[================================        ] (36/44[=================================       ] (37/4[==================================      ] (38/44[===================================     ] (39/4[====================================    ] (40/44[=====================================   ] (41/4[======================================  ] (42/44[======================================= ] (43/4[========================================] (44/44)"
     ]
    },
    {
     "name": "stderr",
     "output_type": "stream",
     "text": [
      "100%|██████████| 4/4 [00:38<00:00,  9.50s/it]"
     ]
    },
    {
     "name": "stdout",
     "output_type": "stream",
     "text": [
      "\b]\n"
     ]
    },
    {
     "name": "stderr",
     "output_type": "stream",
     "text": [
      "\n"
     ]
    }
   ],
   "source": [
    "df_pdf['path_to_docs'] = df_pdf.progress_apply(lambda x: pymuprocessor.create_markdown(x['orig_filepath'],\n",
    "                                                    tessdata=\"location to folder containing language data .../Tesseract-OCR/tessdata\",\n",
    "                                                    folder_location=\"C:/Users/Prashant/Desktop/work/audit/processing_pymu/\" + 'tmp/processing_pdf/',\n",
    "                                                    filename=os.path.splitext(x['filename'])[0]),axis=1)"
   ]
  },
  {
   "cell_type": "markdown",
   "metadata": {},
   "source": [
    "process imagepdf using OCR"
   ]
  },
  {
   "cell_type": "code",
   "execution_count": 7,
   "metadata": {},
   "outputs": [
    {
     "name": "stderr",
     "output_type": "stream",
     "text": [
      "100%|██████████| 1/1 [00:24<00:00, 24.36s/it]\n"
     ]
    }
   ],
   "source": [
    "df_imagepdf['path_to_docs'] = df_imagepdf.progress_apply(lambda x: pymuprocessor.useOCR_create_text(x['orig_filepath'],\n",
    "                                                    folder_location=\"C:/Users/Prashant/Desktop/work/audit/processing_pymu/\" + 'tmp/processing_pdf/',\n",
    "                                                    filename=os.path.splitext(x['filename'])[0]),axis=1)"
   ]
  },
  {
   "cell_type": "markdown",
   "metadata": {},
   "source": [
    "## chunking"
   ]
  },
  {
   "cell_type": "code",
   "execution_count": 9,
   "metadata": {},
   "outputs": [],
   "source": [
    "df = pd.concat([df_pdf,df_imagepdf],ignore_index=True)"
   ]
  },
  {
   "cell_type": "code",
   "execution_count": 18,
   "metadata": {},
   "outputs": [],
   "source": [
    "def create_save_chunks(filename,path_to_docs):\n",
    "    # create chunks\n",
    "    file_extension = os.path.splitext(os.path.basename(os.path.normpath(path_to_docs)))[1][1:]\n",
    "    chunks = pymuprocessor.create_chunks(folder_location=path_to_docs,overlap= 10,\n",
    "                                         chunk_size=800,file_extension=file_extension)\n",
    "    # save chunks\n",
    "    with open(path_to_docs+os.path.splitext(filename)[0]+'.chunks.json', 'w') as file:\n",
    "        json.dump(chunks, file)\n",
    "    # return chunks filepath\n",
    "    return path_to_docs+ os.path.splitext(filename)[0] +'.chunks.json'"
   ]
  },
  {
   "cell_type": "code",
   "execution_count": 19,
   "metadata": {},
   "outputs": [],
   "source": [
    "df['chunks_filepath'] = df.apply(lambda x: create_save_chunks(x['filename'],x['path_to_docs']) \n",
    "                                            ,axis=1)"
   ]
  },
  {
   "cell_type": "code",
   "execution_count": null,
   "metadata": {},
   "outputs": [],
   "source": [
    "import json\n",
    "jsonfile = df.to_json(orient=\"records\")\n",
    "parsed = json.loads(jsonfile)\n",
    "with open( \"save to folder location\", 'w') as file:\n",
    "    json.dump(parsed, file, indent=4)"
   ]
  }
 ],
 "metadata": {
  "kernelspec": {
   "display_name": "nlp",
   "language": "python",
   "name": "python3"
  },
  "language_info": {
   "codemirror_mode": {
    "name": "ipython",
    "version": 3
   },
   "file_extension": ".py",
   "mimetype": "text/x-python",
   "name": "python",
   "nbconvert_exporter": "python",
   "pygments_lexer": "ipython3",
   "version": "3.11.10"
  }
 },
 "nbformat": 4,
 "nbformat_minor": 2
}
