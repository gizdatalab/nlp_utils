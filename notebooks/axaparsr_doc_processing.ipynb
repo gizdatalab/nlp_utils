{
 "cells": [
  {
   "cell_type": "code",
   "execution_count": null,
   "metadata": {},
   "outputs": [],
   "source": [
    "import pandas as pd\n",
    "import docker\n",
    "client = docker.from_env()\n",
    "from nlputils import utils\n",
    "from nlputils.components.axaserver import axaprocessor"
   ]
  },
  {
   "cell_type": "code",
   "execution_count": null,
   "metadata": {},
   "outputs": [],
   "source": [
    "# read the files dataframe created from load_docs.ipynb\n",
    "df_pdf = pd.read_json(\"folder_location\")\\\n",
    "                    .query('ImagePDF.notna() & ImagePDF==False').reset_index(drop=True)\n",
    "df_pdf['pdf_path'] = df_pdf.apply(lambda x: x['orig_filepath'] if x['filetype'] == 'pdf' \n",
    "                                  else x['converted_filepath'],axis=1)\n",
    "\n",
    "# keeping image pdf as separate dataframe\n",
    "df_imagepdf = pd.read_json(\"folder_location\")\\\n",
    "                    .query('ImagePDF.notna() & ImagePDF==True').reset_index(drop=True)\n",
    "df_imagepdf['pdf_path'] = df_imagepdf.apply(lambda x: x['orig_filepath'] if x['filetype'] == 'pdf' \n",
    "                                  else x['converted_filepath'],axis=1)"
   ]
  },
  {
   "cell_type": "markdown",
   "metadata": {},
   "source": [
    "# Document Processing"
   ]
  },
  {
   "cell_type": "markdown",
   "metadata": {},
   "source": [
    "Sort the files with page count:\n",
    "- For file_size < 10 pages: keep batch_size= 8-10, batch_wait_time= 300 sec\n",
    "- 10 < For file_size < 25 pages: keep batch_size= 5-10, batch_wait_time= 300 sec\n",
    "- 25 < For file_size < 60 pages: keep batch_size= 5-10, batch_wait_time= 600 sec\n",
    "- 60 < For file_size: keep batch_size < 5, batch_wait_time = 1200-1800 sec"
   ]
  },
  {
   "cell_type": "code",
   "execution_count": null,
   "metadata": {},
   "outputs": [],
   "source": [
    "# instantiate class object and pass the files list\n",
    "batch_test= axaprocessor.axaBatchProcessingLocal(container_id=\"bf132427ed0273fc6b0b0744486df975eff9fd7856f18bd46c91ba987547723b\",\n",
    "                                                 batch_files=df_pdf.pdf_path.tolist())\n",
    "# set the batch parameters, depending on memeory and number of cores that docker has access to\n",
    "batch_test.set_batch_params()\n",
    "batch_test.processing(\"save_to_folder_location\")"
   ]
  },
  {
   "cell_type": "markdown",
   "metadata": {},
   "source": [
    "Process ImagePDF's"
   ]
  },
  {
   "cell_type": "code",
   "execution_count": null,
   "metadata": {},
   "outputs": [],
   "source": [
    "# instantiate class object and pass the files list\n",
    "batch_test= axaprocessor.axaBatchProcessingLocal(container_id=\"bf132427ed0273fc6b0b0744486df975eff9fd7856f18bd46c91ba987547723b\",\n",
    "                                                 batch_files=df_imagepdf.pdf_path.tolist(), config='ocr')\n",
    "# set the batch parameters, depending on memeory and number of cores that docker has access to\n",
    "batch_test.set_batch_params(batch_size=7,batch_wait_time=600)\n",
    "batch_test.processing(\"save_to_folder_location\")"
   ]
  }
 ],
 "metadata": {
  "language_info": {
   "name": "python"
  }
 },
 "nbformat": 4,
 "nbformat_minor": 2
}
