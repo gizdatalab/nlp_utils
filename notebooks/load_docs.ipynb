{
 "cells": [
  {
   "cell_type": "code",
   "execution_count": null,
   "metadata": {},
   "outputs": [],
   "source": [
    "from nlputils import utils\n",
    "from nlputils.components import axaserver\n",
    "import pandas as pd\n",
    "from tqdm import tqdm\n",
    "tqdm.pandas()\n",
    "import json\n",
    "import os"
   ]
  },
  {
   "cell_type": "code",
   "execution_count": null,
   "metadata": {},
   "outputs": [
    {
     "name": "stdout",
     "output_type": "stream",
     "text": [
      "individuals file type counts\n",
      "pdf:430\n",
      "docx:276\n"
     ]
    }
   ],
   "source": [
    "# Define the path var to dir which need to be processed (including sub-dir)\n",
    "# Ex:'../abc/project/\n",
    "path_to_orig_data_folder = \"folder to be considered/\"\n",
    "\n",
    "# Define file types to be considered\n",
    "file_types = ['pdf','docx']\n",
    "\n",
    "# read all files (inlcuding sub-dir) in dir defined above\n",
    "files_list = utils.get_files(path_to_orig_data_folder)\n",
    "print('individuals file type counts', '\\n'.join([str(type)+\":\"+str(len(lst)) \n",
    "                                    for type,lst in files_list.items()]), sep='\\n')\n",
    "\n",
    "# Contructing dataframe for record keeping\n",
    "# create list of key, values for dataframe\n",
    "keys = [k for k, v in files_list.items() for _ in v]\n",
    "values = [v for v in files_list.values() for v in v]\n",
    "df_files = pd.DataFrame({'filetype': keys, 'orig_filepath': values})"
   ]
  },
  {
   "cell_type": "markdown",
   "metadata": {},
   "source": [
    "Convert docx files to pdf"
   ]
  },
  {
   "cell_type": "code",
   "execution_count": null,
   "metadata": {},
   "outputs": [],
   "source": [
    "# Convert docx files to pdf\n",
    "# converting docx to pdf is not deterministic as this might open a pop-up to grant \n",
    "# the permission which docx2pdf needs\n",
    "converted_docx = utils.convert_docxfiles(files_list['docx'])\n",
    "print('Docx succesfully converted:', sum(x is not None for x in converted_docx))\n",
    "print('Docx not succesfully converted:',sum(x is None for x in converted_docx) )\n",
    "# update the df with new path\n",
    "tmp = dict(zip(files_list['docx'], converted_docx))\n",
    "df_files['converted_filepath'] = df_files.orig_filepath.apply(lambda x: tmp.get(x))\n",
    "df_files['page_count'] = df_files.orig_filepath.apply(lambda x: utils.get_page_count(x))"
   ]
  },
  {
   "cell_type": "code",
   "execution_count": null,
   "metadata": {},
   "outputs": [
    {
     "name": "stderr",
     "output_type": "stream",
     "text": [
      "100%|██████████| 706/706 [01:03<00:00, 11.09it/s]\n"
     ]
    }
   ],
   "source": [
    "# check if pdf is normal or imagepdf\n",
    "df_files['ImagePDF'] = df_files.progress_apply(lambda x: utils.check_if_imagepdf(x['orig_filepath']) \n",
    "                                                if x['filetype']  == 'pdf' else\n",
    "                                                (utils.check_if_imagepdf(x['converted_filepath']) \n",
    "                                                 if x['converted_filepath'] is not None else None),\n",
    "                                                 axis=1)"
   ]
  },
  {
   "cell_type": "code",
   "execution_count": null,
   "metadata": {},
   "outputs": [],
   "source": [
    "# save the files info\n",
    "path_to_new_folder = \"path to folder: Ex:'../abc/project/\"\n",
    "if not os.path.exists(path_to_new_folder + 'tmp/'):\n",
    "            os.makedirs(path_to_new_folder + 'tmp/')\n",
    "jsonfile = df_files.to_json(orient=\"records\")\n",
    "parsed = json.loads(jsonfile)\n",
    "with open(path_to_new_folder+'tmp/df_files.json', 'w') as file:\n",
    "    json.dump(parsed, file, indent=4)"
   ]
  }
 ],
 "metadata": {
  "kernelspec": {
   "display_name": "nlp",
   "language": "python",
   "name": "python3"
  },
  "language_info": {
   "codemirror_mode": {
    "name": "ipython",
    "version": 3
   },
   "file_extension": ".py",
   "mimetype": "text/x-python",
   "name": "python",
   "nbconvert_exporter": "python",
   "pygments_lexer": "ipython3",
   "version": "3.11.10"
  }
 },
 "nbformat": 4,
 "nbformat_minor": 2
}
