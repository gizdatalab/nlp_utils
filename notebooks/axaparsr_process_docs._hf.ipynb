{
 "cells": [
  {
   "cell_type": "code",
   "execution_count": null,
   "metadata": {},
   "outputs": [
    {
     "name": "stderr",
     "output_type": "stream",
     "text": [
      "c:\\Users\\Prashant\\anaconda3\\envs\\nlp\\Lib\\site-packages\\tqdm\\auto.py:21: TqdmWarning: IProgress not found. Please update jupyter and ipywidgets. See https://ipywidgets.readthedocs.io/en/stable/user_install.html\n",
      "  from .autonotebook import tqdm as notebook_tqdm\n"
     ]
    }
   ],
   "source": [
    "import sys\n",
    "import os\n",
    "import json\n",
    "import time\n",
    "import pandas as pd\n",
    "from tqdm import tqdm\n",
    "tqdm.pandas()\n",
    "from nlp_utils.src.nlputils import utils\n",
    "from nlp_utils.src.nlputils.components.axaserver import axaprocessor, axasplitter"
   ]
  },
  {
   "cell_type": "code",
   "execution_count": 2,
   "metadata": {},
   "outputs": [],
   "source": [
    "###### Declare the variables #######\n",
    "\n",
    "path_to_files_list = \"C:/Users/Prashant/Desktop/work/audit/processing/df_files.json\"\n",
    "\n",
    "path_to_save_output_from_parsr = \"C:/Users/Prashant/Desktop/work/audit/imagepdf_df/\"\n"
   ]
  },
  {
   "cell_type": "code",
   "execution_count": 3,
   "metadata": {},
   "outputs": [
    {
     "name": "stdout",
     "output_type": "stream",
     "text": [
      "normal pdf files to be processed: 31\n",
      "image pdf files to be processed: 113\n"
     ]
    }
   ],
   "source": [
    "# read the files dataframe\n",
    "df_pdf = pd.read_json(path_to_files_list)\\\n",
    "                    .query('ImagePDF.notna() & ImagePDF==False').reset_index(drop=True)\n",
    "df_pdf['pdf_path'] = df_pdf.apply(lambda x: x['orig_filepath'] if x['filetype'] == 'pdf' \n",
    "                                  else x['converted_filepath'],axis=1)\n",
    "df_pdf = df_pdf[df_pdf.pdf_path.notna()]\\\n",
    "                    .sort_values(by = 'page_count',ascending=True)\\\n",
    "                    .reset_index(drop=True)\n",
    "print(\"normal pdf files to be processed:\",len(df_pdf))\n",
    "\n",
    "# keeping image pdf as separate dataframe\n",
    "df_imagepdf = pd.read_json(path_to_files_list)\\\n",
    "                    .query('ImagePDF.notna() & ImagePDF==True').reset_index(drop=True)\n",
    "df_imagepdf['pdf_path'] = df_imagepdf.apply(lambda x: \n",
    "                                x['orig_filepath'] if x['filetype'] == 'pdf' \n",
    "                                else x['converted_filepath'],axis=1)\n",
    "df_imagepdf = df_imagepdf[df_imagepdf.pdf_path.notna()]\\\n",
    "                    .sort_values(by = 'page_count',ascending=True)\\\n",
    "                    .reset_index(drop=True)\n",
    "print(\"image pdf files to be processed:\",len(df_imagepdf))"
   ]
  },
  {
   "cell_type": "markdown",
   "metadata": {},
   "source": [
    "## Document Processing"
   ]
  },
  {
   "cell_type": "code",
   "execution_count": null,
   "metadata": {},
   "outputs": [],
   "source": [
    "files_to_process = df_imagepdf.pdf_path.tolist()\n",
    "\n",
    "# batch size\n",
    "batch_size = 10\n",
    "\n",
    "# wait time\n",
    "sleep_time = 120\n",
    "\n",
    "\n",
    "# server config\n",
    "config = \"default\"\n",
    "\n",
    "# authfile for access token and url in HF\n",
    "authfile = r\"auht file which contains the urla nd auth token for docker running on hf\"\n",
    "\n",
    "# output saving location\n",
    "path_to_save_output_from_parsr = \"local folder to save the output from axaserver\""
   ]
  },
  {
   "cell_type": "code",
   "execution_count": null,
   "metadata": {},
   "outputs": [],
   "source": [
    "batch = axaprocessor.axaBatchProcessingHF(authfile=authfile,config=config, batch_files=files_to_process)\n",
    "batch.set_batch_params(batch_size=batch_size, batch_wait_time=sleep_time)\n",
    "df_processed = batch.processing(path_to_save_output_from_parsr)"
   ]
  },
  {
   "cell_type": "markdown",
   "metadata": {},
   "source": [
    "### Files Consolidation"
   ]
  },
  {
   "cell_type": "code",
   "execution_count": null,
   "metadata": {},
   "outputs": [],
   "source": [
    "df_orig_files = pd.read_json(path_to_files_list)\n",
    "print(\"total files:\",len(df_orig_files))\n",
    "processed_files = utils.get_files(\"location whre all btach files containing metadata information are saved\",file_extensions=['json'])\n",
    "tmp = pd.concat([pd.read_json(f) for f in processed_files['json']],ignore_index=True)\n",
    "tmp['simple_json_download_successful'] = tmp.progress_apply(lambda x: os.path.isfile(x['path_to_docs'] \n",
    "            + os.path.splitext(x['filename'])[0] + '.simple.json') if x['path_to_docs'] else False,axis=1)\n",
    "df_processed = tmp[(tmp.path_to_docs.notna()) & \n",
    "            (tmp.simple_json_download_successful == True)].reset_index(drop=True)\n",
    "print(\"total files processed:\",len(df_processed))\n",
    "not_procesed = tmp[(tmp.path_to_docs.isna()) | (tmp.simple_json_download_successful == False)]"
   ]
  },
  {
   "cell_type": "code",
   "execution_count": 41,
   "metadata": {},
   "outputs": [
    {
     "data": {
      "text/html": [
       "<div>\n",
       "<style scoped>\n",
       "    .dataframe tbody tr th:only-of-type {\n",
       "        vertical-align: middle;\n",
       "    }\n",
       "\n",
       "    .dataframe tbody tr th {\n",
       "        vertical-align: top;\n",
       "    }\n",
       "\n",
       "    .dataframe thead th {\n",
       "        text-align: right;\n",
       "    }\n",
       "</style>\n",
       "<table border=\"1\" class=\"dataframe\">\n",
       "  <thead>\n",
       "    <tr style=\"text-align: right;\">\n",
       "      <th></th>\n",
       "      <th>file_path</th>\n",
       "      <th>filename</th>\n",
       "      <th>config</th>\n",
       "      <th>status_code</th>\n",
       "      <th>server_response</th>\n",
       "      <th>status</th>\n",
       "      <th>path_to_docs</th>\n",
       "      <th>simple_json_download_successful</th>\n",
       "      <th>filetype</th>\n",
       "      <th>orig_filepath</th>\n",
       "      <th>ImagePDF</th>\n",
       "      <th>page_count</th>\n",
       "    </tr>\n",
       "  </thead>\n",
       "  <tbody>\n",
       "    <tr>\n",
       "      <th>0</th>\n",
       "      <td>../Data_A/Audit_Reports\\Hospitals\\Soroti Regio...</td>\n",
       "      <td>Soroti Regional Referral Hospital Report of th...</td>\n",
       "      <td>c:\\Users\\Prashant\\OneDrive - Deutsche Gesellsc...</td>\n",
       "      <td>202</td>\n",
       "      <td>7e73c4617885b549b32ea1784c3825</td>\n",
       "      <td>201</td>\n",
       "      <td>None</td>\n",
       "      <td>False</td>\n",
       "      <td>pdf</td>\n",
       "      <td>../Data_A/Audit_Reports\\Hospitals\\Soroti Regio...</td>\n",
       "      <td>False</td>\n",
       "      <td>37</td>\n",
       "    </tr>\n",
       "  </tbody>\n",
       "</table>\n",
       "</div>"
      ],
      "text/plain": [
       "                                           file_path  \\\n",
       "0  ../Data_A/Audit_Reports\\Hospitals\\Soroti Regio...   \n",
       "\n",
       "                                            filename  \\\n",
       "0  Soroti Regional Referral Hospital Report of th...   \n",
       "\n",
       "                                              config  status_code  \\\n",
       "0  c:\\Users\\Prashant\\OneDrive - Deutsche Gesellsc...          202   \n",
       "\n",
       "                  server_response  status path_to_docs  \\\n",
       "0  7e73c4617885b549b32ea1784c3825     201         None   \n",
       "\n",
       "   simple_json_download_successful filetype  \\\n",
       "0                            False      pdf   \n",
       "\n",
       "                                       orig_filepath  ImagePDF  page_count  \n",
       "0  ../Data_A/Audit_Reports\\Hospitals\\Soroti Regio...     False          37  "
      ]
     },
     "execution_count": 41,
     "metadata": {},
     "output_type": "execute_result"
    }
   ],
   "source": [
    "df_orig_files['file_path'] = df_orig_files.orig_filepath\n",
    "not_procesed = pd.merge(not_procesed,df_orig_files, how='inner', on=['file_path'])\n",
    "not_procesed"
   ]
  },
  {
   "cell_type": "markdown",
   "metadata": {},
   "source": [
    "## Chunking"
   ]
  },
  {
   "cell_type": "code",
   "execution_count": 17,
   "metadata": {},
   "outputs": [],
   "source": [
    "def create_save_chunks(filename,path_to_docs):\n",
    "    # create chunks\n",
    "    chunks = axasplitter.simplejson_splitter(\n",
    "            json_filepath=path_to_docs + os.path.splitext(filename)[0]+'.simple.json',\n",
    "            filename = os.path.splitext(filename)[0],page_start=0,\n",
    "            headings_level=2,lower_threshold=50, upper_threshold=50)\n",
    "    # save chunks\n",
    "    with open(path_to_docs+os.path.splitext(filename)[0]+'.chunks.json', 'w') as file:\n",
    "        json.dump(chunks, file)\n",
    "    # return chunks filepath\n",
    "    return path_to_docs+ os.path.splitext(filename)[0] +'.chunks.json'"
   ]
  },
  {
   "cell_type": "code",
   "execution_count": 18,
   "metadata": {},
   "outputs": [
    {
     "name": "stderr",
     "output_type": "stream",
     "text": [
      "100%|██████████| 143/143 [00:20<00:00,  6.99it/s]\n"
     ]
    }
   ],
   "source": [
    "df_processed['chunks_filepath'] = df_processed.progress_apply(lambda x: \n",
    "                                    create_save_chunks(x['filename'],x['path_to_docs']) \n",
    "                                    if x['simple_json_download_successful'] else None,axis=1)"
   ]
  },
  {
   "cell_type": "code",
   "execution_count": 19,
   "metadata": {},
   "outputs": [],
   "source": [
    "import json\n",
    "jsonfile = df_processed.to_json(orient=\"records\")\n",
    "parsed = json.loads(jsonfile)\n",
    "with open(\"C:/Users/Prashant/Desktop/work/audit/processing/processed_chunks.json\", 'w') as file:\n",
    "    json.dump(parsed, file, indent=4)"
   ]
  },
  {
   "cell_type": "markdown",
   "metadata": {},
   "source": [
    "# Quality check\n",
    "\n",
    "We will perform a brief quality check on the quality of data, both at page level and then at chunks level"
   ]
  },
  {
   "cell_type": "code",
   "execution_count": 20,
   "metadata": {},
   "outputs": [],
   "source": [
    "# read the chunks metadata file\n",
    "df = pd.read_json(\"C:/Users/Prashant/Desktop/work/audit/processing/processed_chunks.json\")\n",
    "df = df[df.simple_json_download_successful ==True].reset_index(drop=True)"
   ]
  },
  {
   "cell_type": "code",
   "execution_count": 21,
   "metadata": {},
   "outputs": [
    {
     "name": "stderr",
     "output_type": "stream",
     "text": [
      "100%|██████████| 143/143 [00:01<00:00, 111.46it/s]\n",
      "100%|██████████| 143/143 [00:01<00:00, 108.74it/s]\n",
      "100%|██████████| 143/143 [00:00<00:00, 95083.30it/s]"
     ]
    },
    {
     "name": "stdout",
     "output_type": "stream",
     "text": [
      "Total Number of okay files: 142\n"
     ]
    },
    {
     "name": "stderr",
     "output_type": "stream",
     "text": [
      "\n"
     ]
    }
   ],
   "source": [
    "# Performing page level checks\n",
    "\n",
    "# read raw text page wise using axaprocessor\n",
    "df['pages'] = df.progress_apply(lambda x: axaprocessor.get_pagewise_text(x['path_to_docs'] + \n",
    "                                os.path.splitext(x['filename'])[0]+'.simple.json'),axis=1)\n",
    "\n",
    "# check for text quality page wise\n",
    "def check_pages(pages):\n",
    "    page_check= []\n",
    "    for page in pages:\n",
    "        # using gibberish function to detect quality\n",
    "        page_check.append(utils.is_gibberish(page['content']))\n",
    "    return page_check\n",
    "\n",
    "df['gibberish_page_check'] = df.pages.progress_apply(lambda x: check_pages(x))\n",
    "df['extracted_page_count'] = df.gibberish_page_check.apply(lambda x: len(x))\n",
    "df = df[df.extracted_page_count != 0].reset_index(drop=True)\n",
    "\n",
    "df['gibberish_doc_percent'] = df.gibberish_page_check.progress_apply(lambda x: round((sum(x)/len(x)),2))\n",
    "# checking files percent based on percentage of pages good\n",
    "# usually from the experience its seen its a good benchmark\n",
    "# reason for .35 thres is from fact that if document is only 3 pages and of these 1 page is not good \n",
    "# its better to check.\n",
    "print(\"Total Number of okay files:\", len(df[df.gibberish_doc_percent <= 0.35]))"
   ]
  },
  {
   "cell_type": "code",
   "execution_count": 22,
   "metadata": {},
   "outputs": [
    {
     "name": "stdout",
     "output_type": "stream",
     "text": [
      "Total docs having atleast 1 page classified as gibberish: 17\n"
     ]
    },
    {
     "data": {
      "image/png": "[encoded data removed]",
      "text/plain": [
       "<Figure size 640x480 with 1 Axes>"
      ]
     },
     "metadata": {},
     "output_type": "display_data"
    }
   ],
   "source": [
    "import matplotlib.pyplot as plt\n",
    "\n",
    "# plot to see the distribution of documents which have atleast one page being classified as gibberish\n",
    "df['gibberish_page_count'] = df.gibberish_page_check.apply(lambda x: sum(x))\n",
    "print(\"Total docs having atleast 1 page classified as gibberish:\", \n",
    "                        len(df.query('gibberish_doc_percent > 0')))\n",
    "plt.hist(df.query('gibberish_doc_percent > 0').gibberish_doc_percent, color='lightgreen', \n",
    "                                                                ec='black', bins=20)\n",
    "plt.title(\"Distribution of Percentage of Gibberish page per doc (filtered: >0%)\")\n",
    "plt.show()"
   ]
  },
  {
   "cell_type": "markdown",
   "metadata": {},
   "source": [
    "Perform some random check on the documents to asses the quality too"
   ]
  },
  {
   "cell_type": "code",
   "execution_count": null,
   "metadata": {},
   "outputs": [],
   "source": [
    "# # this code block can be sued o filter soem documents which can be used for spot check\n",
    "# # reason for .35 thres is from fact that if document is only 3 pages and of these 1 page is not good \n",
    "# # its better to check.\n",
    "\n",
    "# #### uncomment below and use #########\n",
    "# to_be_checked = df.query('gibberish_doc_percent > 0')\\\n",
    "#                             .query('gibberish_doc_percent <=0.35')\\\n",
    "#                             .reset_index()\n",
    "\n",
    "# to_be_checked['checklist'] = to_be_checked.gibberish_page_check.apply(lambda x: [\n",
    "#                                                         i for i,j in enumerate(x) if j])\n",
    "\n",
    "# # drop where its only first page\n",
    "# to_be_checked['check'] = to_be_checked.checklist.apply(lambda x: False if (len(x) ==1) and (x[0]==0) else True)\n",
    "# to_be_checked = to_be_checked[to_be_checked.check==True].drop(columns=['gibberish_page_check',\n",
    "#                                                         'check']).reset_index(drop=True)\n",
    "# to_be_checked.to_csv('manual_check.csv', index=False)\n",
    "# to_be_checked"
   ]
  },
  {
   "cell_type": "code",
   "execution_count": null,
   "metadata": {},
   "outputs": [
    {
     "name": "stderr",
     "output_type": "stream",
     "text": [
      "100%|██████████| 648/648 [00:16<00:00, 39.39it/s]\n"
     ]
    }
   ],
   "source": [
    "# performing the same quality check on paragraph/chunks level\n",
    "def check_chunks(filepath):\n",
    "    with open(filepath) as file:\n",
    "        chunks  =  json.load(file)\n",
    "    \n",
    "    chunks = chunks['paragraphs']\n",
    "    if len(chunks)!= 0:\n",
    "        chunks = pd.DataFrame(chunks)\n",
    "        chunks['check'] = chunks.content.apply(lambda x: utils.is_gibberish(str(x)))\n",
    "    return list(chunks.check)\n",
    "\n",
    "df['gibberish_chunk_check'] = df.chunks_filepath.progress_apply(lambda x: check_chunks(x))\n",
    "df['chunks_count'] = df.gibberish_chunk_check.apply(lambda x: len(x))\n",
    "df['gibberish_chunks_percent'] = df.gibberish_chunk_check.apply(lambda x: round((sum(x)/len(x)),2))\n",
    "df['gibberish_chunks_count'] = df.gibberish_chunk_check.apply(lambda x: sum(x))"
   ]
  },
  {
   "cell_type": "code",
   "execution_count": null,
   "metadata": {},
   "outputs": [
    {
     "name": "stdout",
     "output_type": "stream",
     "text": [
      "Total docs having atleast 5 percentage of  chunk classified as gibberish: 159\n"
     ]
    },
    {
     "data": {
      "image/png": "[encoded data removed]",
      "text/plain": [
       "<Figure size 640x480 with 1 Axes>"
      ]
     },
     "metadata": {},
     "output_type": "display_data"
    }
   ],
   "source": [
    "import matplotlib.pyplot as plt\n",
    "\n",
    "# plot to see the % distribution ofgibberish chunks documents which have more than 35% page classifed as gibberish\n",
    "\n",
    "print(\"Total docs having atleast 5 percentage of  chunk classified as gibberish:\", \n",
    "                                    len(df.query('gibberish_chunks_percent > 0.05')))\n",
    "plt.hist(df.query('gibberish_doc_percent < 0.35').query('gibberish_chunks_count >1')\\\n",
    "                .gibberish_chunks_percent, color='lightgreen', ec='black', bins=20)\n",
    "plt.title(\"\"\"Distribution of Percentage of Gibberish chunks per doc \\n \n",
    "          (filtered: gibberish_doc_percent < 35% & gibberish_chunks_count>1)\"\"\")\n",
    "plt.show()"
   ]
  }
 ],
 "metadata": {
  "kernelspec": {
   "display_name": "nlp",
   "language": "python",
   "name": "python3"
  },
  "language_info": {
   "codemirror_mode": {
    "name": "ipython",
    "version": 3
   },
   "file_extension": ".py",
   "mimetype": "text/x-python",
   "name": "python",
   "nbconvert_exporter": "python",
   "pygments_lexer": "ipython3",
   "version": "3.11.10"
  }
 },
 "nbformat": 4,
 "nbformat_minor": 2
}
