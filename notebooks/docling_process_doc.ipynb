{
 "cells": [
  {
   "cell_type": "code",
   "execution_count": null,
   "metadata": {},
   "outputs": [
    {
     "name": "stderr",
     "output_type": "stream",
     "text": [
      "c:\\Users\\Prashant\\anaconda3\\envs\\nlpdoc\\Lib\\site-packages\\tqdm\\auto.py:21: TqdmWarning: IProgress not found. Please update jupyter and ipywidgets. See https://ipywidgets.readthedocs.io/en/stable/user_install.html\n",
      "  from .autonotebook import tqdm as notebook_tqdm\n"
     ]
    }
   ],
   "source": [
    "import sys\n",
    "import os\n",
    "import json\n",
    "import time\n",
    "import pandas as pd\n",
    "from tqdm import tqdm\n",
    "tqdm.pandas()\n",
    "from nlp_utils.src.nlputils import utils\n",
    "from nlp_utils.src.nlputils.components.docling_util import doclingserver"
   ]
  },
  {
   "cell_type": "code",
   "execution_count": null,
   "metadata": {},
   "outputs": [],
   "source": [
    "###### Declare the variables #######\n",
    "\n",
    "path_to_files_list = \"path to read files\"\n"
   ]
  },
  {
   "cell_type": "code",
   "execution_count": 3,
   "metadata": {},
   "outputs": [
    {
     "name": "stdout",
     "output_type": "stream",
     "text": [
      "normal pdf files to be processed: 154\n",
      "image pdf files to be processed: 42\n"
     ]
    }
   ],
   "source": [
    "# read the files dataframe\n",
    "df_pdf = pd.read_json(path_to_files_list)\\\n",
    "                    .query('ImagePDF.notna() & ImagePDF==False').reset_index(drop=True)\n",
    "df_pdf['pdf_path'] = df_pdf.apply(lambda x: x['orig_filepath'] if x['filetype'] == 'pdf' \n",
    "                                  else x['converted_filepath'],axis=1)\n",
    "df_pdf = df_pdf[df_pdf.pdf_path.notna()]\\\n",
    "                    .sort_values(by = 'page_count',ascending=True)\\\n",
    "                    .reset_index(drop=True)\n",
    "print(\"normal pdf files to be processed:\",len(df_pdf))\n",
    "\n",
    "# keeping image pdf as separate dataframe\n",
    "df_imagepdf = pd.read_json(path_to_files_list)\\\n",
    "                    .query('ImagePDF.notna() & ImagePDF==True').reset_index(drop=True)\n",
    "df_imagepdf['pdf_path'] = df_imagepdf.apply(lambda x: \n",
    "                                x['orig_filepath'] if x['filetype'] == 'pdf' \n",
    "                                else x['converted_filepath'],axis=1)\n",
    "df_imagepdf = df_imagepdf[df_imagepdf.pdf_path.notna()]\\\n",
    "                    .sort_values(by = 'page_count',ascending=True)\\\n",
    "                    .reset_index(drop=True)\n",
    "print(\"image pdf files to be processed:\",len(df_imagepdf))"
   ]
  },
  {
   "cell_type": "code",
   "execution_count": null,
   "metadata": {},
   "outputs": [],
   "source": [
    "success_count, partial_success_count, failure_count, folder_info= doclingserver.batch_processing(\n",
    "                                    file_list=df_pdf.pdf_path.tolist(),\n",
    "                                    output_dir='path to save output')"
   ]
  },
  {
   "cell_type": "markdown",
   "metadata": {},
   "source": [
    "Process image pdfs"
   ]
  },
  {
   "cell_type": "code",
   "execution_count": null,
   "metadata": {},
   "outputs": [],
   "source": [
    "for file in tqdm(df_imagepdf.pdf_path.to_list()):\n",
    "    a,b = doclingserver.useOCR(file)\n",
    "    c,d = doclingserver.save_output(a, 'path to save output' , b)"
   ]
  }
 ],
 "metadata": {
  "kernelspec": {
   "display_name": "nlpdoc",
   "language": "python",
   "name": "python3"
  },
  "language_info": {
   "codemirror_mode": {
    "name": "ipython",
    "version": 3
   },
   "file_extension": ".py",
   "mimetype": "text/x-python",
   "name": "python",
   "nbconvert_exporter": "python",
   "pygments_lexer": "ipython3",
   "version": "3.11.11"
  }
 },
 "nbformat": 4,
 "nbformat_minor": 2
}
